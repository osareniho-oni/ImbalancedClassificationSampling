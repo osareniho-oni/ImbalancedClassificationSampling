{
 "cells": [
  {
   "cell_type": "markdown",
   "id": "b22afc3f-c9d3-4a87-bf33-0c0d623c5cbe",
   "metadata": {},
   "source": [
    "# Balancing Act: Unveiling the Impact of Sampling Techniques on Imbalanced Dataset Classification Accuracy\n",
    "\n",
    "Classification is a supervised machine learning method where the model tries to predict the correct label of a given input data. In classification, the model is fully trained using the training data, and then it is evaluated on test data before being used to perform prediction on new unseen data - [DataCamp](www.datacamp.com/blog/classification-machine-learning).\n",
    "\n",
    "Imbalanced classification are those classification tasks where the distribution of samples across the classes is not equal. Practical imbalanced classification requires the use of a suite of specialized techniques, data preparation techniques, learning algorithms, and performance metrics.   [MachineLearningMastery](https://machinelearningmastery.com/)."
   ]
  },
  {
   "cell_type": "markdown",
   "id": "ad2e5510-f9e2-4cc1-b5b0-ecadb2a5136a",
   "metadata": {},
   "source": [
    "### Import Libraries"
   ]
  },
  {
   "cell_type": "code",
   "execution_count": 1,
   "id": "e508e235-d55f-457c-b185-c7554616c695",
   "metadata": {},
   "outputs": [],
   "source": [
    "import pandas as pd\n",
    "import gzip\n",
    "import matplotlib.pyplot as plt\n",
    "import numpy as np\n",
    "import seaborn as sns\n",
    "from collections import Counter\n",
    "from sklearn.model_selection import train_test_split\n",
    "from sklearn.pipeline import make_pipeline\n",
    "from sklearn.compose import ColumnTransformer\n",
    "from sklearn.preprocessing import OneHotEncoder, StandardScaler\n",
    "from sklearn.impute import SimpleImputer\n",
    "from sklearn.linear_model import LogisticRegression\n",
    "from sklearn.metrics import classification_report, accuracy_score, confusion_matrix\n",
    "from sklearn.metrics import ConfusionMatrixDisplay, RocCurveDisplay\n",
    "from imblearn.under_sampling import RandomUnderSampler\n",
    "from imblearn.over_sampling import RandomOverSampler"
   ]
  },
  {
   "cell_type": "markdown",
   "id": "905edc8f-beec-4e62-912d-354e8ea153c1",
   "metadata": {},
   "source": [
    "## Prepare Data\n",
    "\n",
    "### Explore Dataset"
   ]
  },
  {
   "cell_type": "code",
   "execution_count": 2,
   "id": "d44b386e-943e-4cec-8fa9-9a03f42b4fa2",
   "metadata": {},
   "outputs": [
    {
     "data": {
      "text/html": [
       "<div>\n",
       "<style scoped>\n",
       "    .dataframe tbody tr th:only-of-type {\n",
       "        vertical-align: middle;\n",
       "    }\n",
       "\n",
       "    .dataframe tbody tr th {\n",
       "        vertical-align: top;\n",
       "    }\n",
       "\n",
       "    .dataframe thead th {\n",
       "        text-align: right;\n",
       "    }\n",
       "</style>\n",
       "<table border=\"1\" class=\"dataframe\">\n",
       "  <thead>\n",
       "    <tr style=\"text-align: right;\">\n",
       "      <th></th>\n",
       "      <th>Unnamed: 0</th>\n",
       "      <th>accountNumber</th>\n",
       "      <th>customerId</th>\n",
       "      <th>creditLimit</th>\n",
       "      <th>availableMoney</th>\n",
       "      <th>transactionDateTime</th>\n",
       "      <th>transactionAmount</th>\n",
       "      <th>merchantName</th>\n",
       "      <th>acqCountry</th>\n",
       "      <th>merchantCountryCode</th>\n",
       "      <th>...</th>\n",
       "      <th>echoBuffer</th>\n",
       "      <th>currentBalance</th>\n",
       "      <th>merchantCity</th>\n",
       "      <th>merchantState</th>\n",
       "      <th>merchantZip</th>\n",
       "      <th>cardPresent</th>\n",
       "      <th>posOnPremises</th>\n",
       "      <th>recurringAuthInd</th>\n",
       "      <th>expirationDateKeyInMatch</th>\n",
       "      <th>isFraud</th>\n",
       "    </tr>\n",
       "  </thead>\n",
       "  <tbody>\n",
       "    <tr>\n",
       "      <th>0</th>\n",
       "      <td>0</td>\n",
       "      <td>737265056</td>\n",
       "      <td>737265056</td>\n",
       "      <td>5000</td>\n",
       "      <td>5000.0</td>\n",
       "      <td>2016-08-13T14:27:32</td>\n",
       "      <td>98.55</td>\n",
       "      <td>Uber</td>\n",
       "      <td>US</td>\n",
       "      <td>US</td>\n",
       "      <td>...</td>\n",
       "      <td>NaN</td>\n",
       "      <td>0.0</td>\n",
       "      <td>NaN</td>\n",
       "      <td>NaN</td>\n",
       "      <td>NaN</td>\n",
       "      <td>False</td>\n",
       "      <td>NaN</td>\n",
       "      <td>NaN</td>\n",
       "      <td>False</td>\n",
       "      <td>False</td>\n",
       "    </tr>\n",
       "    <tr>\n",
       "      <th>1</th>\n",
       "      <td>1</td>\n",
       "      <td>737265056</td>\n",
       "      <td>737265056</td>\n",
       "      <td>5000</td>\n",
       "      <td>5000.0</td>\n",
       "      <td>2016-10-11T05:05:54</td>\n",
       "      <td>74.51</td>\n",
       "      <td>AMC #191138</td>\n",
       "      <td>US</td>\n",
       "      <td>US</td>\n",
       "      <td>...</td>\n",
       "      <td>NaN</td>\n",
       "      <td>0.0</td>\n",
       "      <td>NaN</td>\n",
       "      <td>NaN</td>\n",
       "      <td>NaN</td>\n",
       "      <td>True</td>\n",
       "      <td>NaN</td>\n",
       "      <td>NaN</td>\n",
       "      <td>False</td>\n",
       "      <td>False</td>\n",
       "    </tr>\n",
       "    <tr>\n",
       "      <th>2</th>\n",
       "      <td>2</td>\n",
       "      <td>737265056</td>\n",
       "      <td>737265056</td>\n",
       "      <td>5000</td>\n",
       "      <td>5000.0</td>\n",
       "      <td>2016-11-08T09:18:39</td>\n",
       "      <td>7.47</td>\n",
       "      <td>Play Store</td>\n",
       "      <td>US</td>\n",
       "      <td>US</td>\n",
       "      <td>...</td>\n",
       "      <td>NaN</td>\n",
       "      <td>0.0</td>\n",
       "      <td>NaN</td>\n",
       "      <td>NaN</td>\n",
       "      <td>NaN</td>\n",
       "      <td>False</td>\n",
       "      <td>NaN</td>\n",
       "      <td>NaN</td>\n",
       "      <td>False</td>\n",
       "      <td>False</td>\n",
       "    </tr>\n",
       "    <tr>\n",
       "      <th>3</th>\n",
       "      <td>3</td>\n",
       "      <td>737265056</td>\n",
       "      <td>737265056</td>\n",
       "      <td>5000</td>\n",
       "      <td>5000.0</td>\n",
       "      <td>2016-12-10T02:14:50</td>\n",
       "      <td>7.47</td>\n",
       "      <td>Play Store</td>\n",
       "      <td>US</td>\n",
       "      <td>US</td>\n",
       "      <td>...</td>\n",
       "      <td>NaN</td>\n",
       "      <td>0.0</td>\n",
       "      <td>NaN</td>\n",
       "      <td>NaN</td>\n",
       "      <td>NaN</td>\n",
       "      <td>False</td>\n",
       "      <td>NaN</td>\n",
       "      <td>NaN</td>\n",
       "      <td>False</td>\n",
       "      <td>False</td>\n",
       "    </tr>\n",
       "    <tr>\n",
       "      <th>4</th>\n",
       "      <td>4</td>\n",
       "      <td>830329091</td>\n",
       "      <td>830329091</td>\n",
       "      <td>5000</td>\n",
       "      <td>5000.0</td>\n",
       "      <td>2016-03-24T21:04:46</td>\n",
       "      <td>71.18</td>\n",
       "      <td>Tim Hortons #947751</td>\n",
       "      <td>US</td>\n",
       "      <td>US</td>\n",
       "      <td>...</td>\n",
       "      <td>NaN</td>\n",
       "      <td>0.0</td>\n",
       "      <td>NaN</td>\n",
       "      <td>NaN</td>\n",
       "      <td>NaN</td>\n",
       "      <td>True</td>\n",
       "      <td>NaN</td>\n",
       "      <td>NaN</td>\n",
       "      <td>False</td>\n",
       "      <td>False</td>\n",
       "    </tr>\n",
       "  </tbody>\n",
       "</table>\n",
       "<p>5 rows × 30 columns</p>\n",
       "</div>"
      ],
      "text/plain": [
       "   Unnamed: 0  accountNumber  customerId  creditLimit  availableMoney  \\\n",
       "0           0      737265056   737265056         5000          5000.0   \n",
       "1           1      737265056   737265056         5000          5000.0   \n",
       "2           2      737265056   737265056         5000          5000.0   \n",
       "3           3      737265056   737265056         5000          5000.0   \n",
       "4           4      830329091   830329091         5000          5000.0   \n",
       "\n",
       "   transactionDateTime  transactionAmount         merchantName acqCountry  \\\n",
       "0  2016-08-13T14:27:32              98.55                 Uber         US   \n",
       "1  2016-10-11T05:05:54              74.51          AMC #191138         US   \n",
       "2  2016-11-08T09:18:39               7.47           Play Store         US   \n",
       "3  2016-12-10T02:14:50               7.47           Play Store         US   \n",
       "4  2016-03-24T21:04:46              71.18  Tim Hortons #947751         US   \n",
       "\n",
       "  merchantCountryCode  ...  echoBuffer  currentBalance merchantCity  \\\n",
       "0                  US  ...         NaN             0.0          NaN   \n",
       "1                  US  ...         NaN             0.0          NaN   \n",
       "2                  US  ...         NaN             0.0          NaN   \n",
       "3                  US  ...         NaN             0.0          NaN   \n",
       "4                  US  ...         NaN             0.0          NaN   \n",
       "\n",
       "  merchantState merchantZip cardPresent  posOnPremises  recurringAuthInd  \\\n",
       "0           NaN         NaN       False            NaN               NaN   \n",
       "1           NaN         NaN        True            NaN               NaN   \n",
       "2           NaN         NaN       False            NaN               NaN   \n",
       "3           NaN         NaN       False            NaN               NaN   \n",
       "4           NaN         NaN        True            NaN               NaN   \n",
       "\n",
       "   expirationDateKeyInMatch isFraud  \n",
       "0                     False   False  \n",
       "1                     False   False  \n",
       "2                     False   False  \n",
       "3                     False   False  \n",
       "4                     False   False  \n",
       "\n",
       "[5 rows x 30 columns]"
      ]
     },
     "execution_count": 2,
     "metadata": {},
     "output_type": "execute_result"
    }
   ],
   "source": [
    "# with gzip.open('data/transactions.gz', 'rb') as f:\n",
    "#     df = pd.read_csv(f)\n",
    "df = pd.read_csv('data/transactions.gz', compression='gzip')\n",
    "df.head()"
   ]
  },
  {
   "cell_type": "code",
   "execution_count": 3,
   "id": "1377029f-45b5-4988-9597-79593db43c3f",
   "metadata": {},
   "outputs": [],
   "source": [
    "df_fraud = df.drop(columns=df.columns[0], axis=1)"
   ]
  },
  {
   "cell_type": "code",
   "execution_count": 4,
   "id": "fd071bb5-ac16-46c1-a555-b5a3548a49ae",
   "metadata": {},
   "outputs": [
    {
     "data": {
      "text/html": [
       "<div>\n",
       "<style scoped>\n",
       "    .dataframe tbody tr th:only-of-type {\n",
       "        vertical-align: middle;\n",
       "    }\n",
       "\n",
       "    .dataframe tbody tr th {\n",
       "        vertical-align: top;\n",
       "    }\n",
       "\n",
       "    .dataframe thead th {\n",
       "        text-align: right;\n",
       "    }\n",
       "</style>\n",
       "<table border=\"1\" class=\"dataframe\">\n",
       "  <thead>\n",
       "    <tr style=\"text-align: right;\">\n",
       "      <th></th>\n",
       "      <th>accountNumber</th>\n",
       "      <th>customerId</th>\n",
       "      <th>creditLimit</th>\n",
       "      <th>availableMoney</th>\n",
       "      <th>transactionDateTime</th>\n",
       "      <th>transactionAmount</th>\n",
       "      <th>merchantName</th>\n",
       "      <th>acqCountry</th>\n",
       "      <th>merchantCountryCode</th>\n",
       "      <th>posEntryMode</th>\n",
       "      <th>...</th>\n",
       "      <th>echoBuffer</th>\n",
       "      <th>currentBalance</th>\n",
       "      <th>merchantCity</th>\n",
       "      <th>merchantState</th>\n",
       "      <th>merchantZip</th>\n",
       "      <th>cardPresent</th>\n",
       "      <th>posOnPremises</th>\n",
       "      <th>recurringAuthInd</th>\n",
       "      <th>expirationDateKeyInMatch</th>\n",
       "      <th>isFraud</th>\n",
       "    </tr>\n",
       "  </thead>\n",
       "  <tbody>\n",
       "    <tr>\n",
       "      <th>0</th>\n",
       "      <td>737265056</td>\n",
       "      <td>737265056</td>\n",
       "      <td>5000</td>\n",
       "      <td>5000.0</td>\n",
       "      <td>2016-08-13T14:27:32</td>\n",
       "      <td>98.55</td>\n",
       "      <td>Uber</td>\n",
       "      <td>US</td>\n",
       "      <td>US</td>\n",
       "      <td>2.0</td>\n",
       "      <td>...</td>\n",
       "      <td>NaN</td>\n",
       "      <td>0.0</td>\n",
       "      <td>NaN</td>\n",
       "      <td>NaN</td>\n",
       "      <td>NaN</td>\n",
       "      <td>False</td>\n",
       "      <td>NaN</td>\n",
       "      <td>NaN</td>\n",
       "      <td>False</td>\n",
       "      <td>False</td>\n",
       "    </tr>\n",
       "    <tr>\n",
       "      <th>1</th>\n",
       "      <td>737265056</td>\n",
       "      <td>737265056</td>\n",
       "      <td>5000</td>\n",
       "      <td>5000.0</td>\n",
       "      <td>2016-10-11T05:05:54</td>\n",
       "      <td>74.51</td>\n",
       "      <td>AMC #191138</td>\n",
       "      <td>US</td>\n",
       "      <td>US</td>\n",
       "      <td>9.0</td>\n",
       "      <td>...</td>\n",
       "      <td>NaN</td>\n",
       "      <td>0.0</td>\n",
       "      <td>NaN</td>\n",
       "      <td>NaN</td>\n",
       "      <td>NaN</td>\n",
       "      <td>True</td>\n",
       "      <td>NaN</td>\n",
       "      <td>NaN</td>\n",
       "      <td>False</td>\n",
       "      <td>False</td>\n",
       "    </tr>\n",
       "    <tr>\n",
       "      <th>2</th>\n",
       "      <td>737265056</td>\n",
       "      <td>737265056</td>\n",
       "      <td>5000</td>\n",
       "      <td>5000.0</td>\n",
       "      <td>2016-11-08T09:18:39</td>\n",
       "      <td>7.47</td>\n",
       "      <td>Play Store</td>\n",
       "      <td>US</td>\n",
       "      <td>US</td>\n",
       "      <td>9.0</td>\n",
       "      <td>...</td>\n",
       "      <td>NaN</td>\n",
       "      <td>0.0</td>\n",
       "      <td>NaN</td>\n",
       "      <td>NaN</td>\n",
       "      <td>NaN</td>\n",
       "      <td>False</td>\n",
       "      <td>NaN</td>\n",
       "      <td>NaN</td>\n",
       "      <td>False</td>\n",
       "      <td>False</td>\n",
       "    </tr>\n",
       "    <tr>\n",
       "      <th>3</th>\n",
       "      <td>737265056</td>\n",
       "      <td>737265056</td>\n",
       "      <td>5000</td>\n",
       "      <td>5000.0</td>\n",
       "      <td>2016-12-10T02:14:50</td>\n",
       "      <td>7.47</td>\n",
       "      <td>Play Store</td>\n",
       "      <td>US</td>\n",
       "      <td>US</td>\n",
       "      <td>9.0</td>\n",
       "      <td>...</td>\n",
       "      <td>NaN</td>\n",
       "      <td>0.0</td>\n",
       "      <td>NaN</td>\n",
       "      <td>NaN</td>\n",
       "      <td>NaN</td>\n",
       "      <td>False</td>\n",
       "      <td>NaN</td>\n",
       "      <td>NaN</td>\n",
       "      <td>False</td>\n",
       "      <td>False</td>\n",
       "    </tr>\n",
       "    <tr>\n",
       "      <th>4</th>\n",
       "      <td>830329091</td>\n",
       "      <td>830329091</td>\n",
       "      <td>5000</td>\n",
       "      <td>5000.0</td>\n",
       "      <td>2016-03-24T21:04:46</td>\n",
       "      <td>71.18</td>\n",
       "      <td>Tim Hortons #947751</td>\n",
       "      <td>US</td>\n",
       "      <td>US</td>\n",
       "      <td>2.0</td>\n",
       "      <td>...</td>\n",
       "      <td>NaN</td>\n",
       "      <td>0.0</td>\n",
       "      <td>NaN</td>\n",
       "      <td>NaN</td>\n",
       "      <td>NaN</td>\n",
       "      <td>True</td>\n",
       "      <td>NaN</td>\n",
       "      <td>NaN</td>\n",
       "      <td>False</td>\n",
       "      <td>False</td>\n",
       "    </tr>\n",
       "  </tbody>\n",
       "</table>\n",
       "<p>5 rows × 29 columns</p>\n",
       "</div>"
      ],
      "text/plain": [
       "   accountNumber  customerId  creditLimit  availableMoney  \\\n",
       "0      737265056   737265056         5000          5000.0   \n",
       "1      737265056   737265056         5000          5000.0   \n",
       "2      737265056   737265056         5000          5000.0   \n",
       "3      737265056   737265056         5000          5000.0   \n",
       "4      830329091   830329091         5000          5000.0   \n",
       "\n",
       "   transactionDateTime  transactionAmount         merchantName acqCountry  \\\n",
       "0  2016-08-13T14:27:32              98.55                 Uber         US   \n",
       "1  2016-10-11T05:05:54              74.51          AMC #191138         US   \n",
       "2  2016-11-08T09:18:39               7.47           Play Store         US   \n",
       "3  2016-12-10T02:14:50               7.47           Play Store         US   \n",
       "4  2016-03-24T21:04:46              71.18  Tim Hortons #947751         US   \n",
       "\n",
       "  merchantCountryCode  posEntryMode  ...  echoBuffer currentBalance  \\\n",
       "0                  US           2.0  ...         NaN            0.0   \n",
       "1                  US           9.0  ...         NaN            0.0   \n",
       "2                  US           9.0  ...         NaN            0.0   \n",
       "3                  US           9.0  ...         NaN            0.0   \n",
       "4                  US           2.0  ...         NaN            0.0   \n",
       "\n",
       "  merchantCity merchantState merchantZip  cardPresent  posOnPremises  \\\n",
       "0          NaN           NaN         NaN        False            NaN   \n",
       "1          NaN           NaN         NaN         True            NaN   \n",
       "2          NaN           NaN         NaN        False            NaN   \n",
       "3          NaN           NaN         NaN        False            NaN   \n",
       "4          NaN           NaN         NaN         True            NaN   \n",
       "\n",
       "   recurringAuthInd expirationDateKeyInMatch  isFraud  \n",
       "0               NaN                    False    False  \n",
       "1               NaN                    False    False  \n",
       "2               NaN                    False    False  \n",
       "3               NaN                    False    False  \n",
       "4               NaN                    False    False  \n",
       "\n",
       "[5 rows x 29 columns]"
      ]
     },
     "execution_count": 4,
     "metadata": {},
     "output_type": "execute_result"
    }
   ],
   "source": [
    "df_fraud.head()"
   ]
  },
  {
   "cell_type": "code",
   "execution_count": 5,
   "id": "5f78d0dc-fee7-41c7-abe3-75a958b7f98c",
   "metadata": {},
   "outputs": [
    {
     "name": "stdout",
     "output_type": "stream",
     "text": [
      "<class 'pandas.core.frame.DataFrame'>\n",
      "RangeIndex: 786363 entries, 0 to 786362\n",
      "Data columns (total 29 columns):\n",
      " #   Column                    Non-Null Count   Dtype  \n",
      "---  ------                    --------------   -----  \n",
      " 0   accountNumber             786363 non-null  int64  \n",
      " 1   customerId                786363 non-null  int64  \n",
      " 2   creditLimit               786363 non-null  int64  \n",
      " 3   availableMoney            786363 non-null  float64\n",
      " 4   transactionDateTime       786363 non-null  object \n",
      " 5   transactionAmount         786363 non-null  float64\n",
      " 6   merchantName              786363 non-null  object \n",
      " 7   acqCountry                781801 non-null  object \n",
      " 8   merchantCountryCode       785639 non-null  object \n",
      " 9   posEntryMode              782309 non-null  float64\n",
      " 10  posConditionCode          785954 non-null  float64\n",
      " 11  merchantCategoryCode      786363 non-null  object \n",
      " 12  currentExpDate            786363 non-null  object \n",
      " 13  accountOpenDate           786363 non-null  object \n",
      " 14  dateOfLastAddressChange   786363 non-null  object \n",
      " 15  cardCVV                   786363 non-null  int64  \n",
      " 16  enteredCVV                786363 non-null  int64  \n",
      " 17  cardLast4Digits           786363 non-null  int64  \n",
      " 18  transactionType           785665 non-null  object \n",
      " 19  echoBuffer                0 non-null       float64\n",
      " 20  currentBalance            786363 non-null  float64\n",
      " 21  merchantCity              0 non-null       float64\n",
      " 22  merchantState             0 non-null       float64\n",
      " 23  merchantZip               0 non-null       float64\n",
      " 24  cardPresent               786363 non-null  bool   \n",
      " 25  posOnPremises             0 non-null       float64\n",
      " 26  recurringAuthInd          0 non-null       float64\n",
      " 27  expirationDateKeyInMatch  786363 non-null  bool   \n",
      " 28  isFraud                   786363 non-null  bool   \n",
      "dtypes: bool(3), float64(11), int64(6), object(9)\n",
      "memory usage: 158.2+ MB\n"
     ]
    }
   ],
   "source": [
    "df_fraud.info()"
   ]
  },
  {
   "cell_type": "code",
   "execution_count": 6,
   "id": "e02455c4-031e-49ea-aec0-20e58d88bb57",
   "metadata": {},
   "outputs": [
    {
     "data": {
      "text/plain": [
       "<Axes: xlabel='isFraud', ylabel='count'>"
      ]
     },
     "execution_count": 6,
     "metadata": {},
     "output_type": "execute_result"
    },
    {
     "data": {
      "image/png": "[encoded data removed]",
      "text/plain": [
       "<Figure size 640x480 with 1 Axes>"
      ]
     },
     "metadata": {},
     "output_type": "display_data"
    }
   ],
   "source": [
    "sns.countplot(df_fraud, x='isFraud')"
   ]
  },
  {
   "cell_type": "code",
   "execution_count": 7,
   "id": "70c67c54-6a9b-4894-b15a-53d394f4091c",
   "metadata": {},
   "outputs": [
    {
     "data": {
      "text/plain": [
       "isFraud\n",
       "False    0.98421\n",
       "True     0.01579\n",
       "Name: proportion, dtype: float64"
      ]
     },
     "execution_count": 7,
     "metadata": {},
     "output_type": "execute_result"
    }
   ],
   "source": [
    "df_fraud.isFraud.value_counts(normalize=True)"
   ]
  },
  {
   "cell_type": "markdown",
   "id": "b850b390-23a5-4a73-8de0-7b4dc0689c86",
   "metadata": {},
   "source": [
    "The isFraud column has less than 2% fraud cases which is highly imbalance"
   ]
  },
  {
   "cell_type": "markdown",
   "id": "3535f55a-c440-4426-8267-4934ed0ed746",
   "metadata": {},
   "source": [
    "### Check for Missing Values"
   ]
  },
  {
   "cell_type": "code",
   "execution_count": 8,
   "id": "f87332f2-038a-4453-a612-e7ff359f31e2",
   "metadata": {},
   "outputs": [
    {
     "data": {
      "text/plain": [
       "accountNumber               0.000000\n",
       "customerId                  0.000000\n",
       "creditLimit                 0.000000\n",
       "availableMoney              0.000000\n",
       "transactionDateTime         0.000000\n",
       "transactionAmount           0.000000\n",
       "merchantName                0.000000\n",
       "acqCountry                  0.005801\n",
       "merchantCountryCode         0.000921\n",
       "posEntryMode                0.005155\n",
       "posConditionCode            0.000520\n",
       "merchantCategoryCode        0.000000\n",
       "currentExpDate              0.000000\n",
       "accountOpenDate             0.000000\n",
       "dateOfLastAddressChange     0.000000\n",
       "cardCVV                     0.000000\n",
       "enteredCVV                  0.000000\n",
       "cardLast4Digits             0.000000\n",
       "transactionType             0.000888\n",
       "echoBuffer                  1.000000\n",
       "currentBalance              0.000000\n",
       "merchantCity                1.000000\n",
       "merchantState               1.000000\n",
       "merchantZip                 1.000000\n",
       "cardPresent                 0.000000\n",
       "posOnPremises               1.000000\n",
       "recurringAuthInd            1.000000\n",
       "expirationDateKeyInMatch    0.000000\n",
       "isFraud                     0.000000\n",
       "dtype: float64"
      ]
     },
     "execution_count": 8,
     "metadata": {},
     "output_type": "execute_result"
    }
   ],
   "source": [
    "# Let's check for percentage of missing values in each column\n",
    "df_fraud.isnull().mean() "
   ]
  },
  {
   "cell_type": "markdown",
   "id": "52a31f27-c3cc-430e-b022-f1b3f7504de9",
   "metadata": {},
   "source": [
    "### Load Data and Preprocess for Modelling\n",
    "We have explored the dataset and can now create a function to wrangle the data for modeling\n",
    "\n",
    "### Create a wrangle function to:\n",
    " - load data\n",
    " - drop unnamed column\n",
    " - drop columns with more than 20% missingness\n",
    " - Convert boolean values to string for categorical data encoding\n",
    " - Encode target variable (0 for the majority class and 1 for the minority class as is the custom for imbalance binary classification dataset)"
   ]
  },
  {
   "cell_type": "code",
   "execution_count": 9,
   "id": "9f92e759-7c90-435e-be3f-482df157778e",
   "metadata": {},
   "outputs": [],
   "source": [
    "# Cretae a wrangle function\n",
    "def wrangle(filepath):\n",
    "    # load file\n",
    "    df = pd.read_csv(filepath, compression='gzip')\n",
    "\n",
    "    # drop unnamed column\n",
    "    df = df.drop(columns=df.columns[0], axis=1)\n",
    "\n",
    "    #drop columns with more than 20% missingness\n",
    "    dropped_cols = [col for col in df.columns if df[col].isnull().mean() > 0.2]\n",
    "    df = df.drop(columns=dropped_cols)\n",
    "\n",
    "    # Convert dateTime to numerical string \n",
    "    # df['transactionDateTime'] = (pd.to_datetime(df['transactionDateTime'])).dt.strftime('%Y%m%d%H%M%S')\n",
    "\n",
    "    # Convert boolean values to string for categorical data encoding\n",
    "    df[\"cardPresent\"] = df[\"cardPresent\"].replace({True: 'True', False: 'False'})\n",
    "    df[\"expirationDateKeyInMatch\"] = df[\"expirationDateKeyInMatch\"].replace({True: 'True', False: 'False'})\n",
    "\n",
    "    # Binary Encode target variables\n",
    "    df[\"isFraud\"] = df[\"isFraud\"].map({False : 0, True : 1})\n",
    "\n",
    "    return df"
   ]
  },
  {
   "cell_type": "code",
   "execution_count": 10,
   "id": "460e05f4-cca8-4c59-89f8-6d0c4559d397",
   "metadata": {},
   "outputs": [
    {
     "data": {
      "text/html": [
       "<div>\n",
       "<style scoped>\n",
       "    .dataframe tbody tr th:only-of-type {\n",
       "        vertical-align: middle;\n",
       "    }\n",
       "\n",
       "    .dataframe tbody tr th {\n",
       "        vertical-align: top;\n",
       "    }\n",
       "\n",
       "    .dataframe thead th {\n",
       "        text-align: right;\n",
       "    }\n",
       "</style>\n",
       "<table border=\"1\" class=\"dataframe\">\n",
       "  <thead>\n",
       "    <tr style=\"text-align: right;\">\n",
       "      <th></th>\n",
       "      <th>accountNumber</th>\n",
       "      <th>customerId</th>\n",
       "      <th>creditLimit</th>\n",
       "      <th>availableMoney</th>\n",
       "      <th>transactionDateTime</th>\n",
       "      <th>transactionAmount</th>\n",
       "      <th>merchantName</th>\n",
       "      <th>acqCountry</th>\n",
       "      <th>merchantCountryCode</th>\n",
       "      <th>posEntryMode</th>\n",
       "      <th>...</th>\n",
       "      <th>accountOpenDate</th>\n",
       "      <th>dateOfLastAddressChange</th>\n",
       "      <th>cardCVV</th>\n",
       "      <th>enteredCVV</th>\n",
       "      <th>cardLast4Digits</th>\n",
       "      <th>transactionType</th>\n",
       "      <th>currentBalance</th>\n",
       "      <th>cardPresent</th>\n",
       "      <th>expirationDateKeyInMatch</th>\n",
       "      <th>isFraud</th>\n",
       "    </tr>\n",
       "  </thead>\n",
       "  <tbody>\n",
       "    <tr>\n",
       "      <th>0</th>\n",
       "      <td>737265056</td>\n",
       "      <td>737265056</td>\n",
       "      <td>5000</td>\n",
       "      <td>5000.0</td>\n",
       "      <td>2016-08-13T14:27:32</td>\n",
       "      <td>98.55</td>\n",
       "      <td>Uber</td>\n",
       "      <td>US</td>\n",
       "      <td>US</td>\n",
       "      <td>2.0</td>\n",
       "      <td>...</td>\n",
       "      <td>2015-03-14</td>\n",
       "      <td>2015-03-14</td>\n",
       "      <td>414</td>\n",
       "      <td>414</td>\n",
       "      <td>1803</td>\n",
       "      <td>PURCHASE</td>\n",
       "      <td>0.0</td>\n",
       "      <td>False</td>\n",
       "      <td>False</td>\n",
       "      <td>0</td>\n",
       "    </tr>\n",
       "    <tr>\n",
       "      <th>1</th>\n",
       "      <td>737265056</td>\n",
       "      <td>737265056</td>\n",
       "      <td>5000</td>\n",
       "      <td>5000.0</td>\n",
       "      <td>2016-10-11T05:05:54</td>\n",
       "      <td>74.51</td>\n",
       "      <td>AMC #191138</td>\n",
       "      <td>US</td>\n",
       "      <td>US</td>\n",
       "      <td>9.0</td>\n",
       "      <td>...</td>\n",
       "      <td>2015-03-14</td>\n",
       "      <td>2015-03-14</td>\n",
       "      <td>486</td>\n",
       "      <td>486</td>\n",
       "      <td>767</td>\n",
       "      <td>PURCHASE</td>\n",
       "      <td>0.0</td>\n",
       "      <td>True</td>\n",
       "      <td>False</td>\n",
       "      <td>0</td>\n",
       "    </tr>\n",
       "    <tr>\n",
       "      <th>2</th>\n",
       "      <td>737265056</td>\n",
       "      <td>737265056</td>\n",
       "      <td>5000</td>\n",
       "      <td>5000.0</td>\n",
       "      <td>2016-11-08T09:18:39</td>\n",
       "      <td>7.47</td>\n",
       "      <td>Play Store</td>\n",
       "      <td>US</td>\n",
       "      <td>US</td>\n",
       "      <td>9.0</td>\n",
       "      <td>...</td>\n",
       "      <td>2015-03-14</td>\n",
       "      <td>2015-03-14</td>\n",
       "      <td>486</td>\n",
       "      <td>486</td>\n",
       "      <td>767</td>\n",
       "      <td>PURCHASE</td>\n",
       "      <td>0.0</td>\n",
       "      <td>False</td>\n",
       "      <td>False</td>\n",
       "      <td>0</td>\n",
       "    </tr>\n",
       "    <tr>\n",
       "      <th>3</th>\n",
       "      <td>737265056</td>\n",
       "      <td>737265056</td>\n",
       "      <td>5000</td>\n",
       "      <td>5000.0</td>\n",
       "      <td>2016-12-10T02:14:50</td>\n",
       "      <td>7.47</td>\n",
       "      <td>Play Store</td>\n",
       "      <td>US</td>\n",
       "      <td>US</td>\n",
       "      <td>9.0</td>\n",
       "      <td>...</td>\n",
       "      <td>2015-03-14</td>\n",
       "      <td>2015-03-14</td>\n",
       "      <td>486</td>\n",
       "      <td>486</td>\n",
       "      <td>767</td>\n",
       "      <td>PURCHASE</td>\n",
       "      <td>0.0</td>\n",
       "      <td>False</td>\n",
       "      <td>False</td>\n",
       "      <td>0</td>\n",
       "    </tr>\n",
       "    <tr>\n",
       "      <th>4</th>\n",
       "      <td>830329091</td>\n",
       "      <td>830329091</td>\n",
       "      <td>5000</td>\n",
       "      <td>5000.0</td>\n",
       "      <td>2016-03-24T21:04:46</td>\n",
       "      <td>71.18</td>\n",
       "      <td>Tim Hortons #947751</td>\n",
       "      <td>US</td>\n",
       "      <td>US</td>\n",
       "      <td>2.0</td>\n",
       "      <td>...</td>\n",
       "      <td>2015-08-06</td>\n",
       "      <td>2015-08-06</td>\n",
       "      <td>885</td>\n",
       "      <td>885</td>\n",
       "      <td>3143</td>\n",
       "      <td>PURCHASE</td>\n",
       "      <td>0.0</td>\n",
       "      <td>True</td>\n",
       "      <td>False</td>\n",
       "      <td>0</td>\n",
       "    </tr>\n",
       "  </tbody>\n",
       "</table>\n",
       "<p>5 rows × 23 columns</p>\n",
       "</div>"
      ],
      "text/plain": [
       "   accountNumber  customerId  creditLimit  availableMoney  \\\n",
       "0      737265056   737265056         5000          5000.0   \n",
       "1      737265056   737265056         5000          5000.0   \n",
       "2      737265056   737265056         5000          5000.0   \n",
       "3      737265056   737265056         5000          5000.0   \n",
       "4      830329091   830329091         5000          5000.0   \n",
       "\n",
       "   transactionDateTime  transactionAmount         merchantName acqCountry  \\\n",
       "0  2016-08-13T14:27:32              98.55                 Uber         US   \n",
       "1  2016-10-11T05:05:54              74.51          AMC #191138         US   \n",
       "2  2016-11-08T09:18:39               7.47           Play Store         US   \n",
       "3  2016-12-10T02:14:50               7.47           Play Store         US   \n",
       "4  2016-03-24T21:04:46              71.18  Tim Hortons #947751         US   \n",
       "\n",
       "  merchantCountryCode  posEntryMode  ...  accountOpenDate  \\\n",
       "0                  US           2.0  ...       2015-03-14   \n",
       "1                  US           9.0  ...       2015-03-14   \n",
       "2                  US           9.0  ...       2015-03-14   \n",
       "3                  US           9.0  ...       2015-03-14   \n",
       "4                  US           2.0  ...       2015-08-06   \n",
       "\n",
       "  dateOfLastAddressChange cardCVV enteredCVV cardLast4Digits  transactionType  \\\n",
       "0              2015-03-14     414        414            1803         PURCHASE   \n",
       "1              2015-03-14     486        486             767         PURCHASE   \n",
       "2              2015-03-14     486        486             767         PURCHASE   \n",
       "3              2015-03-14     486        486             767         PURCHASE   \n",
       "4              2015-08-06     885        885            3143         PURCHASE   \n",
       "\n",
       "   currentBalance  cardPresent expirationDateKeyInMatch  isFraud  \n",
       "0             0.0        False                    False        0  \n",
       "1             0.0         True                    False        0  \n",
       "2             0.0        False                    False        0  \n",
       "3             0.0        False                    False        0  \n",
       "4             0.0         True                    False        0  \n",
       "\n",
       "[5 rows x 23 columns]"
      ]
     },
     "execution_count": 10,
     "metadata": {},
     "output_type": "execute_result"
    }
   ],
   "source": [
    "fraud_data = wrangle('data/transactions.gz')\n",
    "fraud_data.head()"
   ]
  },
  {
   "cell_type": "code",
   "execution_count": 11,
   "id": "c2319e0d-fa97-43c7-b885-df8c3d0a2154",
   "metadata": {},
   "outputs": [
    {
     "name": "stdout",
     "output_type": "stream",
     "text": [
      "<class 'pandas.core.frame.DataFrame'>\n",
      "RangeIndex: 786363 entries, 0 to 786362\n",
      "Data columns (total 23 columns):\n",
      " #   Column                    Non-Null Count   Dtype  \n",
      "---  ------                    --------------   -----  \n",
      " 0   accountNumber             786363 non-null  int64  \n",
      " 1   customerId                786363 non-null  int64  \n",
      " 2   creditLimit               786363 non-null  int64  \n",
      " 3   availableMoney            786363 non-null  float64\n",
      " 4   transactionDateTime       786363 non-null  object \n",
      " 5   transactionAmount         786363 non-null  float64\n",
      " 6   merchantName              786363 non-null  object \n",
      " 7   acqCountry                781801 non-null  object \n",
      " 8   merchantCountryCode       785639 non-null  object \n",
      " 9   posEntryMode              782309 non-null  float64\n",
      " 10  posConditionCode          785954 non-null  float64\n",
      " 11  merchantCategoryCode      786363 non-null  object \n",
      " 12  currentExpDate            786363 non-null  object \n",
      " 13  accountOpenDate           786363 non-null  object \n",
      " 14  dateOfLastAddressChange   786363 non-null  object \n",
      " 15  cardCVV                   786363 non-null  int64  \n",
      " 16  enteredCVV                786363 non-null  int64  \n",
      " 17  cardLast4Digits           786363 non-null  int64  \n",
      " 18  transactionType           785665 non-null  object \n",
      " 19  currentBalance            786363 non-null  float64\n",
      " 20  cardPresent               786363 non-null  object \n",
      " 21  expirationDateKeyInMatch  786363 non-null  object \n",
      " 22  isFraud                   786363 non-null  int64  \n",
      "dtypes: float64(5), int64(7), object(11)\n",
      "memory usage: 138.0+ MB\n"
     ]
    }
   ],
   "source": [
    "fraud_data.info()"
   ]
  },
  {
   "cell_type": "code",
   "execution_count": 12,
   "id": "10940bd3-c899-469e-b9ad-58a4e9ae0562",
   "metadata": {},
   "outputs": [
    {
     "data": {
      "image/png": "[encoded data removed]",
      "text/plain": [
       "<Figure size 640x480 with 1 Axes>"
      ]
     },
     "metadata": {},
     "output_type": "display_data"
    }
   ],
   "source": [
    "sns.countplot(fraud_data, x='isFraud', stat='percent',hue=\"isFraud\", palette=\"bright\");"
   ]
  },
  {
   "cell_type": "code",
   "execution_count": 13,
   "id": "0116dcfc-cd72-4053-8701-b3d785f1f4f4",
   "metadata": {},
   "outputs": [
    {
     "data": {
      "text/plain": [
       "isFraud\n",
       "0    773946\n",
       "1     12417\n",
       "Name: count, dtype: int64"
      ]
     },
     "execution_count": 13,
     "metadata": {},
     "output_type": "execute_result"
    }
   ],
   "source": [
    "fraud_data.isFraud.value_counts()"
   ]
  },
  {
   "cell_type": "markdown",
   "id": "51279c51-84a5-423b-992d-ebf1450c6fc0",
   "metadata": {},
   "source": [
    "## Build Model\n",
    "\n",
    "### Split into Training and Test sets"
   ]
  },
  {
   "cell_type": "code",
   "execution_count": 14,
   "id": "fee0d018-12a2-4ab6-9d62-b41b33ee01c0",
   "metadata": {},
   "outputs": [
    {
     "name": "stdout",
     "output_type": "stream",
     "text": [
      "(786363, 22) (786363,)\n"
     ]
    }
   ],
   "source": [
    "# feature columns\n",
    "X = fraud_data.drop(columns=[\"isFraud\"])\n",
    "\n",
    "# target column\n",
    "y = fraud_data[\"isFraud\"]\n",
    "print(X.shape, y.shape)"
   ]
  },
  {
   "cell_type": "code",
   "execution_count": 15,
   "id": "b387d0fd-ab9c-4ef6-a7e4-cfd806f525af",
   "metadata": {},
   "outputs": [
    {
     "name": "stdout",
     "output_type": "stream",
     "text": [
      "(629090, 22) (157273, 22) (629090,) (157273,)\n"
     ]
    }
   ],
   "source": [
    "# Split the data into a training and test sets\n",
    "X_train, X_test, y_train, y_test = train_test_split(X, y, test_size=0.2, random_state=42)\n",
    "print(X_train.shape, X_test.shape, y_train.shape, y_test.shape)"
   ]
  },
  {
   "cell_type": "code",
   "execution_count": 16,
   "id": "9af6403d-5a96-4c52-b297-9068f5a62b16",
   "metadata": {},
   "outputs": [
    {
     "name": "stdout",
     "output_type": "stream",
     "text": [
      "Base Model (Majority Voting) Accuracy on Test Set: 0.9841485824013022\n"
     ]
    }
   ],
   "source": [
    "# Determine the majority class \n",
    "majority_class = Counter(y_train).most_common(1)[0][0]\n",
    "# Predict the majority class for all instances in the test set\n",
    "y_test_pred_majority = [majority_class] * len(y_test)\n",
    "# Calculate accuracy\n",
    "accuracy_score_majority = accuracy_score(y_test, y_test_pred_majority)\n",
    "print(f\"Base Model (Majority Voting) Accuracy on Test Set: {accuracy_score_majority}\")"
   ]
  },
  {
   "cell_type": "markdown",
   "id": "8032b631-e7ed-49aa-be0c-8a1b427e98b5",
   "metadata": {},
   "source": [
    "### Data Preprocessing\n",
    "- we will scale the numeric features using StandardScalar\n",
    "- We will encode the categorical features using OneHotEncoder\n",
    "- Impute missing values with Simpleimputer\n",
    "- Then create separate pipelines for processing the categorical and numeric features"
   ]
  },
  {
   "cell_type": "code",
   "execution_count": 17,
   "id": "3b1a994e-9bb0-4f3c-98f4-5f53446ad1b1",
   "metadata": {},
   "outputs": [],
   "source": [
    "# Select Categorical columns in training set\n",
    "categorical_features = [col for col in X_train.columns if X_train[col].dtype == 'object']\n",
    "\n",
    "# Select Numerical columns in training set\n",
    "numeric_features = [col for col in X_train.columns if X_train[col].dtype in ['int64', 'float64']]\n",
    "\n",
    "# Create transformers for numeric and categorical features\n",
    "numeric_transformer = make_pipeline(\n",
    "    SimpleImputer(strategy='median'),\n",
    "    StandardScaler()\n",
    ")\n",
    "\n",
    "categorical_transformer = make_pipeline(\n",
    "    SimpleImputer(strategy='most_frequent'),\n",
    "    OneHotEncoder(handle_unknown='ignore')\n",
    ")\n",
    "\n",
    "# Combine transformers for both types of features using ColumnTransformer\n",
    "preprocessor = ColumnTransformer(\n",
    "    transformers=[\n",
    "        ('num', numeric_transformer, numeric_features),\n",
    "        ('cat', categorical_transformer, categorical_features)\n",
    "    ])\n",
    "\n",
    "# Create the pipeline\n",
    "pipeline = make_pipeline(preprocessor)"
   ]
  },
  {
   "cell_type": "markdown",
   "id": "e9155a08-10b7-4a67-9ed6-2edee09dda97",
   "metadata": {},
   "source": [
    "### Train and Evaluate Model\n",
    "\n",
    "we will create a model, then train and evaluate it on:\n",
    "- 1. The training data without resampling\n",
    "- 2. The training data with the majority class undersampled\n",
    "- 3. The training data with the minority class oversampled"
   ]
  },
  {
   "cell_type": "code",
   "execution_count": 18,
   "id": "ec72b4ad-447e-4dfd-a2b2-f006d593e0e4",
   "metadata": {},
   "outputs": [
    {
     "data": {
      "text/html": [
       "<style>#sk-container-id-1 {color: black;}#sk-container-id-1 pre{padding: 0;}#sk-container-id-1 div.sk-toggleable {background-color: white;}#sk-container-id-1 label.sk-toggleable__label {cursor: pointer;display: block;width: 100%;margin-bottom: 0;padding: 0.3em;box-sizing: border-box;text-align: center;}#sk-container-id-1 label.sk-toggleable__label-arrow:before {content: \"▸\";float: left;margin-right: 0.25em;color: #696969;}#sk-container-id-1 label.sk-toggleable__label-arrow:hover:before {color: black;}#sk-container-id-1 div.sk-estimator:hover label.sk-toggleable__label-arrow:before {color: black;}#sk-container-id-1 div.sk-toggleable__content {max-height: 0;max-width: 0;overflow: hidden;text-align: left;background-color: #f0f8ff;}#sk-container-id-1 div.sk-toggleable__content pre {margin: 0.2em;color: black;border-radius: 0.25em;background-color: #f0f8ff;}#sk-container-id-1 input.sk-toggleable__control:checked~div.sk-toggleable__content {max-height: 200px;max-width: 100%;overflow: auto;}#sk-container-id-1 input.sk-toggleable__control:checked~label.sk-toggleable__label-arrow:before {content: \"▾\";}#sk-container-id-1 div.sk-estimator input.sk-toggleable__control:checked~label.sk-toggleable__label {background-color: #d4ebff;}#sk-container-id-1 div.sk-label input.sk-toggleable__control:checked~label.sk-toggleable__label {background-color: #d4ebff;}#sk-container-id-1 input.sk-hidden--visually {border: 0;clip: rect(1px 1px 1px 1px);clip: rect(1px, 1px, 1px, 1px);height: 1px;margin: -1px;overflow: hidden;padding: 0;position: absolute;width: 1px;}#sk-container-id-1 div.sk-estimator {font-family: monospace;background-color: #f0f8ff;border: 1px dotted black;border-radius: 0.25em;box-sizing: border-box;margin-bottom: 0.5em;}#sk-container-id-1 div.sk-estimator:hover {background-color: #d4ebff;}#sk-container-id-1 div.sk-parallel-item::after {content: \"\";width: 100%;border-bottom: 1px solid gray;flex-grow: 1;}#sk-container-id-1 div.sk-label:hover label.sk-toggleable__label {background-color: #d4ebff;}#sk-container-id-1 div.sk-serial::before {content: \"\";position: absolute;border-left: 1px solid gray;box-sizing: border-box;top: 0;bottom: 0;left: 50%;z-index: 0;}#sk-container-id-1 div.sk-serial {display: flex;flex-direction: column;align-items: center;background-color: white;padding-right: 0.2em;padding-left: 0.2em;position: relative;}#sk-container-id-1 div.sk-item {position: relative;z-index: 1;}#sk-container-id-1 div.sk-parallel {display: flex;align-items: stretch;justify-content: center;background-color: white;position: relative;}#sk-container-id-1 div.sk-item::before, #sk-container-id-1 div.sk-parallel-item::before {content: \"\";position: absolute;border-left: 1px solid gray;box-sizing: border-box;top: 0;bottom: 0;left: 50%;z-index: -1;}#sk-container-id-1 div.sk-parallel-item {display: flex;flex-direction: column;z-index: 1;position: relative;background-color: white;}#sk-container-id-1 div.sk-parallel-item:first-child::after {align-self: flex-end;width: 50%;}#sk-container-id-1 div.sk-parallel-item:last-child::after {align-self: flex-start;width: 50%;}#sk-container-id-1 div.sk-parallel-item:only-child::after {width: 0;}#sk-container-id-1 div.sk-dashed-wrapped {border: 1px dashed gray;margin: 0 0.4em 0.5em 0.4em;box-sizing: border-box;padding-bottom: 0.4em;background-color: white;}#sk-container-id-1 div.sk-label label {font-family: monospace;font-weight: bold;display: inline-block;line-height: 1.2em;}#sk-container-id-1 div.sk-label-container {text-align: center;}#sk-container-id-1 div.sk-container {/* jupyter's `normalize.less` sets `[hidden] { display: none; }` but bootstrap.min.css set `[hidden] { display: none !important; }` so we also need the `!important` here to be able to override the default hidden behavior on the sphinx rendered scikit-learn.org. See: https://github.com/scikit-learn/scikit-learn/issues/21755 */display: inline-block !important;position: relative;}#sk-container-id-1 div.sk-text-repr-fallback {display: none;}</style><div id=\"sk-container-id-1\" class=\"sk-top-container\"><div class=\"sk-text-repr-fallback\"><pre>Pipeline(steps=[(&#x27;columntransformer&#x27;,\n",
       "                 ColumnTransformer(transformers=[(&#x27;num&#x27;,\n",
       "                                                  Pipeline(steps=[(&#x27;simpleimputer&#x27;,\n",
       "                                                                   SimpleImputer(strategy=&#x27;median&#x27;)),\n",
       "                                                                  (&#x27;standardscaler&#x27;,\n",
       "                                                                   StandardScaler())]),\n",
       "                                                  [&#x27;accountNumber&#x27;,\n",
       "                                                   &#x27;customerId&#x27;, &#x27;creditLimit&#x27;,\n",
       "                                                   &#x27;availableMoney&#x27;,\n",
       "                                                   &#x27;transactionAmount&#x27;,\n",
       "                                                   &#x27;posEntryMode&#x27;,\n",
       "                                                   &#x27;posConditionCode&#x27;,\n",
       "                                                   &#x27;cardCVV&#x27;, &#x27;enteredCVV&#x27;,\n",
       "                                                   &#x27;cardLast4Digits&#x27;,\n",
       "                                                   &#x27;currentBalan...\n",
       "                                                                   SimpleImputer(strategy=&#x27;most_frequent&#x27;)),\n",
       "                                                                  (&#x27;onehotencoder&#x27;,\n",
       "                                                                   OneHotEncoder(handle_unknown=&#x27;ignore&#x27;))]),\n",
       "                                                  [&#x27;transactionDateTime&#x27;,\n",
       "                                                   &#x27;merchantName&#x27;, &#x27;acqCountry&#x27;,\n",
       "                                                   &#x27;merchantCountryCode&#x27;,\n",
       "                                                   &#x27;merchantCategoryCode&#x27;,\n",
       "                                                   &#x27;currentExpDate&#x27;,\n",
       "                                                   &#x27;accountOpenDate&#x27;,\n",
       "                                                   &#x27;dateOfLastAddressChange&#x27;,\n",
       "                                                   &#x27;transactionType&#x27;,\n",
       "                                                   &#x27;cardPresent&#x27;,\n",
       "                                                   &#x27;expirationDateKeyInMatch&#x27;])])),\n",
       "                (&#x27;logisticregression&#x27;, LogisticRegression(max_iter=10000))])</pre><b>In a Jupyter environment, please rerun this cell to show the HTML representation or trust the notebook. <br />On GitHub, the HTML representation is unable to render, please try loading this page with nbviewer.org.</b></div><div class=\"sk-container\" hidden><div class=\"sk-item sk-dashed-wrapped\"><div class=\"sk-label-container\"><div class=\"sk-label sk-toggleable\"><input class=\"sk-toggleable__control sk-hidden--visually\" id=\"sk-estimator-id-1\" type=\"checkbox\" ><label for=\"sk-estimator-id-1\" class=\"sk-toggleable__label sk-toggleable__label-arrow\">Pipeline</label><div class=\"sk-toggleable__content\"><pre>Pipeline(steps=[(&#x27;columntransformer&#x27;,\n",
       "                 ColumnTransformer(transformers=[(&#x27;num&#x27;,\n",
       "                                                  Pipeline(steps=[(&#x27;simpleimputer&#x27;,\n",
       "                                                                   SimpleImputer(strategy=&#x27;median&#x27;)),\n",
       "                                                                  (&#x27;standardscaler&#x27;,\n",
       "                                                                   StandardScaler())]),\n",
       "                                                  [&#x27;accountNumber&#x27;,\n",
       "                                                   &#x27;customerId&#x27;, &#x27;creditLimit&#x27;,\n",
       "                                                   &#x27;availableMoney&#x27;,\n",
       "                                                   &#x27;transactionAmount&#x27;,\n",
       "                                                   &#x27;posEntryMode&#x27;,\n",
       "                                                   &#x27;posConditionCode&#x27;,\n",
       "                                                   &#x27;cardCVV&#x27;, &#x27;enteredCVV&#x27;,\n",
       "                                                   &#x27;cardLast4Digits&#x27;,\n",
       "                                                   &#x27;currentBalan...\n",
       "                                                                   SimpleImputer(strategy=&#x27;most_frequent&#x27;)),\n",
       "                                                                  (&#x27;onehotencoder&#x27;,\n",
       "                                                                   OneHotEncoder(handle_unknown=&#x27;ignore&#x27;))]),\n",
       "                                                  [&#x27;transactionDateTime&#x27;,\n",
       "                                                   &#x27;merchantName&#x27;, &#x27;acqCountry&#x27;,\n",
       "                                                   &#x27;merchantCountryCode&#x27;,\n",
       "                                                   &#x27;merchantCategoryCode&#x27;,\n",
       "                                                   &#x27;currentExpDate&#x27;,\n",
       "                                                   &#x27;accountOpenDate&#x27;,\n",
       "                                                   &#x27;dateOfLastAddressChange&#x27;,\n",
       "                                                   &#x27;transactionType&#x27;,\n",
       "                                                   &#x27;cardPresent&#x27;,\n",
       "                                                   &#x27;expirationDateKeyInMatch&#x27;])])),\n",
       "                (&#x27;logisticregression&#x27;, LogisticRegression(max_iter=10000))])</pre></div></div></div><div class=\"sk-serial\"><div class=\"sk-item sk-dashed-wrapped\"><div class=\"sk-label-container\"><div class=\"sk-label sk-toggleable\"><input class=\"sk-toggleable__control sk-hidden--visually\" id=\"sk-estimator-id-2\" type=\"checkbox\" ><label for=\"sk-estimator-id-2\" class=\"sk-toggleable__label sk-toggleable__label-arrow\">columntransformer: ColumnTransformer</label><div class=\"sk-toggleable__content\"><pre>ColumnTransformer(transformers=[(&#x27;num&#x27;,\n",
       "                                 Pipeline(steps=[(&#x27;simpleimputer&#x27;,\n",
       "                                                  SimpleImputer(strategy=&#x27;median&#x27;)),\n",
       "                                                 (&#x27;standardscaler&#x27;,\n",
       "                                                  StandardScaler())]),\n",
       "                                 [&#x27;accountNumber&#x27;, &#x27;customerId&#x27;, &#x27;creditLimit&#x27;,\n",
       "                                  &#x27;availableMoney&#x27;, &#x27;transactionAmount&#x27;,\n",
       "                                  &#x27;posEntryMode&#x27;, &#x27;posConditionCode&#x27;, &#x27;cardCVV&#x27;,\n",
       "                                  &#x27;enteredCVV&#x27;, &#x27;cardLast4Digits&#x27;,\n",
       "                                  &#x27;currentBalance&#x27;]),\n",
       "                                (&#x27;cat&#x27;,\n",
       "                                 Pipeline(steps=[(&#x27;simpleimputer&#x27;,\n",
       "                                                  SimpleImputer(strategy=&#x27;most_frequent&#x27;)),\n",
       "                                                 (&#x27;onehotencoder&#x27;,\n",
       "                                                  OneHotEncoder(handle_unknown=&#x27;ignore&#x27;))]),\n",
       "                                 [&#x27;transactionDateTime&#x27;, &#x27;merchantName&#x27;,\n",
       "                                  &#x27;acqCountry&#x27;, &#x27;merchantCountryCode&#x27;,\n",
       "                                  &#x27;merchantCategoryCode&#x27;, &#x27;currentExpDate&#x27;,\n",
       "                                  &#x27;accountOpenDate&#x27;, &#x27;dateOfLastAddressChange&#x27;,\n",
       "                                  &#x27;transactionType&#x27;, &#x27;cardPresent&#x27;,\n",
       "                                  &#x27;expirationDateKeyInMatch&#x27;])])</pre></div></div></div><div class=\"sk-parallel\"><div class=\"sk-parallel-item\"><div class=\"sk-item\"><div class=\"sk-label-container\"><div class=\"sk-label sk-toggleable\"><input class=\"sk-toggleable__control sk-hidden--visually\" id=\"sk-estimator-id-3\" type=\"checkbox\" ><label for=\"sk-estimator-id-3\" class=\"sk-toggleable__label sk-toggleable__label-arrow\">num</label><div class=\"sk-toggleable__content\"><pre>[&#x27;accountNumber&#x27;, &#x27;customerId&#x27;, &#x27;creditLimit&#x27;, &#x27;availableMoney&#x27;, &#x27;transactionAmount&#x27;, &#x27;posEntryMode&#x27;, &#x27;posConditionCode&#x27;, &#x27;cardCVV&#x27;, &#x27;enteredCVV&#x27;, &#x27;cardLast4Digits&#x27;, &#x27;currentBalance&#x27;]</pre></div></div></div><div class=\"sk-serial\"><div class=\"sk-item\"><div class=\"sk-serial\"><div class=\"sk-item\"><div class=\"sk-estimator sk-toggleable\"><input class=\"sk-toggleable__control sk-hidden--visually\" id=\"sk-estimator-id-4\" type=\"checkbox\" ><label for=\"sk-estimator-id-4\" class=\"sk-toggleable__label sk-toggleable__label-arrow\">SimpleImputer</label><div class=\"sk-toggleable__content\"><pre>SimpleImputer(strategy=&#x27;median&#x27;)</pre></div></div></div><div class=\"sk-item\"><div class=\"sk-estimator sk-toggleable\"><input class=\"sk-toggleable__control sk-hidden--visually\" id=\"sk-estimator-id-5\" type=\"checkbox\" ><label for=\"sk-estimator-id-5\" class=\"sk-toggleable__label sk-toggleable__label-arrow\">StandardScaler</label><div class=\"sk-toggleable__content\"><pre>StandardScaler()</pre></div></div></div></div></div></div></div></div><div class=\"sk-parallel-item\"><div class=\"sk-item\"><div class=\"sk-label-container\"><div class=\"sk-label sk-toggleable\"><input class=\"sk-toggleable__control sk-hidden--visually\" id=\"sk-estimator-id-6\" type=\"checkbox\" ><label for=\"sk-estimator-id-6\" class=\"sk-toggleable__label sk-toggleable__label-arrow\">cat</label><div class=\"sk-toggleable__content\"><pre>[&#x27;transactionDateTime&#x27;, &#x27;merchantName&#x27;, &#x27;acqCountry&#x27;, &#x27;merchantCountryCode&#x27;, &#x27;merchantCategoryCode&#x27;, &#x27;currentExpDate&#x27;, &#x27;accountOpenDate&#x27;, &#x27;dateOfLastAddressChange&#x27;, &#x27;transactionType&#x27;, &#x27;cardPresent&#x27;, &#x27;expirationDateKeyInMatch&#x27;]</pre></div></div></div><div class=\"sk-serial\"><div class=\"sk-item\"><div class=\"sk-serial\"><div class=\"sk-item\"><div class=\"sk-estimator sk-toggleable\"><input class=\"sk-toggleable__control sk-hidden--visually\" id=\"sk-estimator-id-7\" type=\"checkbox\" ><label for=\"sk-estimator-id-7\" class=\"sk-toggleable__label sk-toggleable__label-arrow\">SimpleImputer</label><div class=\"sk-toggleable__content\"><pre>SimpleImputer(strategy=&#x27;most_frequent&#x27;)</pre></div></div></div><div class=\"sk-item\"><div class=\"sk-estimator sk-toggleable\"><input class=\"sk-toggleable__control sk-hidden--visually\" id=\"sk-estimator-id-8\" type=\"checkbox\" ><label for=\"sk-estimator-id-8\" class=\"sk-toggleable__label sk-toggleable__label-arrow\">OneHotEncoder</label><div class=\"sk-toggleable__content\"><pre>OneHotEncoder(handle_unknown=&#x27;ignore&#x27;)</pre></div></div></div></div></div></div></div></div></div></div><div class=\"sk-item\"><div class=\"sk-estimator sk-toggleable\"><input class=\"sk-toggleable__control sk-hidden--visually\" id=\"sk-estimator-id-9\" type=\"checkbox\" ><label for=\"sk-estimator-id-9\" class=\"sk-toggleable__label sk-toggleable__label-arrow\">LogisticRegression</label><div class=\"sk-toggleable__content\"><pre>LogisticRegression(max_iter=10000)</pre></div></div></div></div></div></div></div>"
      ],
      "text/plain": [
       "Pipeline(steps=[('columntransformer',\n",
       "                 ColumnTransformer(transformers=[('num',\n",
       "                                                  Pipeline(steps=[('simpleimputer',\n",
       "                                                                   SimpleImputer(strategy='median')),\n",
       "                                                                  ('standardscaler',\n",
       "                                                                   StandardScaler())]),\n",
       "                                                  ['accountNumber',\n",
       "                                                   'customerId', 'creditLimit',\n",
       "                                                   'availableMoney',\n",
       "                                                   'transactionAmount',\n",
       "                                                   'posEntryMode',\n",
       "                                                   'posConditionCode',\n",
       "                                                   'cardCVV', 'enteredCVV',\n",
       "                                                   'cardLast4Digits',\n",
       "                                                   'currentBalan...\n",
       "                                                                   SimpleImputer(strategy='most_frequent')),\n",
       "                                                                  ('onehotencoder',\n",
       "                                                                   OneHotEncoder(handle_unknown='ignore'))]),\n",
       "                                                  ['transactionDateTime',\n",
       "                                                   'merchantName', 'acqCountry',\n",
       "                                                   'merchantCountryCode',\n",
       "                                                   'merchantCategoryCode',\n",
       "                                                   'currentExpDate',\n",
       "                                                   'accountOpenDate',\n",
       "                                                   'dateOfLastAddressChange',\n",
       "                                                   'transactionType',\n",
       "                                                   'cardPresent',\n",
       "                                                   'expirationDateKeyInMatch'])])),\n",
       "                ('logisticregression', LogisticRegression(max_iter=10000))])"
      ]
     },
     "execution_count": 18,
     "metadata": {},
     "output_type": "execute_result"
    }
   ],
   "source": [
    "# Create a logistic regression model\n",
    "model = make_pipeline(preprocessor, LogisticRegression(max_iter=10000))\n",
    "model"
   ]
  },
  {
   "cell_type": "markdown",
   "id": "0c4344c8-b235-4947-b0a7-a3ad842c0e67",
   "metadata": {},
   "source": [
    "#### (1) Using Training Data without resampling"
   ]
  },
  {
   "cell_type": "code",
   "execution_count": 19,
   "id": "555ef553-40bc-42ed-91bb-cfb01f76d7fa",
   "metadata": {},
   "outputs": [],
   "source": [
    "# Fit the model to the training data\n",
    "model.fit(X_train, y_train)\n",
    "\n",
    "# Make predictions on the test data\n",
    "y_pred = model.predict(X_test)\n",
    "\n",
    "# Calculate accuracy\n",
    "accuracy_before_sampling = accuracy_score(y_test, y_pred)"
   ]
  },
  {
   "cell_type": "code",
   "execution_count": 44,
   "id": "984d5052-5efa-4104-9b64-5d93878fcc82",
   "metadata": {},
   "outputs": [
    {
     "name": "stdout",
     "output_type": "stream",
     "text": [
      "[(0, 619166), (1, 9924)]\n"
     ]
    }
   ],
   "source": [
    "print(sorted(Counter(y_train).items()))"
   ]
  },
  {
   "cell_type": "markdown",
   "id": "e024072c-dc72-4b55-85d8-be2e9fafdedf",
   "metadata": {},
   "source": [
    "#### (2) Under-sample Training Data"
   ]
  },
  {
   "cell_type": "code",
   "execution_count": 20,
   "id": "a3366669-9a8a-4c68-ac8e-6f29965d7bc0",
   "metadata": {},
   "outputs": [],
   "source": [
    "# Under-sample the training data\n",
    "rus = RandomUnderSampler(sampling_strategy='auto', random_state=42)\n",
    "X_train_under, y_train_under = rus.fit_resample(X_train, y_train)\n",
    "\n",
    "# fit the model to the under-sampled training data\n",
    "model.fit(X_train_under, y_train_under)\n",
    "\n",
    "# Make predictions on the test data\n",
    "y_pred_under = model.predict(X_test)\n",
    "\n",
    "# Calculate accuracy\n",
    "accuracy_after_under_sampling = accuracy_score(y_test, y_pred_under)"
   ]
  },
  {
   "cell_type": "code",
   "execution_count": 21,
   "id": "f3319e9f-3d08-4685-857a-28197f4ecc90",
   "metadata": {},
   "outputs": [
    {
     "name": "stdout",
     "output_type": "stream",
     "text": [
      "[(0, 9924), (1, 9924)]\n"
     ]
    }
   ],
   "source": [
    "print(sorted(Counter(y_train_under).items()))"
   ]
  },
  {
   "cell_type": "markdown",
   "id": "12ef452f-a004-4745-9f6b-c34950fa5b74",
   "metadata": {},
   "source": [
    "#### (3) Over-sample Training Data"
   ]
  },
  {
   "cell_type": "code",
   "execution_count": 22,
   "id": "69800a8c-4741-491f-bcfa-761812dc86a7",
   "metadata": {},
   "outputs": [],
   "source": [
    "# Under-sample the training data\n",
    "ros = RandomOverSampler(sampling_strategy='auto', random_state=42)\n",
    "X_train_over, y_train_over = ros.fit_resample(X_train, y_train)\n",
    "\n",
    "# fit the model to the over-sampled training data\n",
    "model.fit(X_train_over, y_train_over)\n",
    "\n",
    "# Make predictions on the test data\n",
    "y_pred_over = model.predict(X_test)\n",
    "\n",
    "# Calculate accuracy\n",
    "accuracy_after_over_sampling = accuracy_score(y_test, y_pred_over)"
   ]
  },
  {
   "cell_type": "code",
   "execution_count": 23,
   "id": "7ef5a4c8-644a-4d54-8e15-4fcb6ad66acb",
   "metadata": {},
   "outputs": [
    {
     "name": "stdout",
     "output_type": "stream",
     "text": [
      "[(0, 619166), (1, 619166)]\n"
     ]
    }
   ],
   "source": [
    "print(sorted(Counter(y_train_over).items()))"
   ]
  },
  {
   "cell_type": "markdown",
   "id": "9bc51730-454b-4ace-acb1-0c9f1a1be594",
   "metadata": {},
   "source": [
    "#### Compare Performance"
   ]
  },
  {
   "cell_type": "code",
   "execution_count": 24,
   "id": "182ed5ba-9ca2-413a-8b3c-ed456059b423",
   "metadata": {},
   "outputs": [
    {
     "name": "stdout",
     "output_type": "stream",
     "text": [
      "Logistic Regression Model Accuracy (Before Sampling): 0.9841231489193949\n",
      "Logistic Regression Model Accuracy (After under_sampling): 0.6976467670865311\n",
      "Logistic Regression Model Accuracy (After over_sampling): 0.9753803895137754\n"
     ]
    }
   ],
   "source": [
    "# Compare model accuracy\n",
    "print(f\"Logistic Regression Model Accuracy (Before Sampling): {accuracy_before_sampling}\")\n",
    "print(f\"Logistic Regression Model Accuracy (After under_sampling): {accuracy_after_under_sampling}\")\n",
    "print(f\"Logistic Regression Model Accuracy (After over_sampling): {accuracy_after_over_sampling}\")"
   ]
  },
  {
   "cell_type": "markdown",
   "id": "9192d8ac-e4de-4445-9b07-94750659aa13",
   "metadata": {},
   "source": [
    "#### Confusion Matrix of original dataset"
   ]
  },
  {
   "cell_type": "code",
   "execution_count": 25,
   "id": "2ecb7235-167b-44fd-b18c-1321d6898c0b",
   "metadata": {},
   "outputs": [
    {
     "data": {
      "image/png": "[encoded data removed]",
      "text/plain": [
       "<Figure size 640x480 with 2 Axes>"
      ]
     },
     "metadata": {},
     "output_type": "display_data"
    }
   ],
   "source": [
    "ConfusionMatrixDisplay.from_predictions(y_test, y_pred)\n",
    "plt.show()"
   ]
  },
  {
   "cell_type": "markdown",
   "id": "8176edae-6b22-4c03-a7b7-c749303a4c90",
   "metadata": {},
   "source": [
    "#### Confusion Matrix of undersampled Training set"
   ]
  },
  {
   "cell_type": "code",
   "execution_count": 26,
   "id": "972a0e1f-85ef-4171-9d60-8bf517412d74",
   "metadata": {},
   "outputs": [
    {
     "data": {
      "image/png": "[encoded data removed]",
      "text/plain": [
       "<Figure size 640x480 with 2 Axes>"
      ]
     },
     "metadata": {},
     "output_type": "display_data"
    }
   ],
   "source": [
    "ConfusionMatrixDisplay.from_predictions(y_test, y_pred_under)\n",
    "plt.show()"
   ]
  },
  {
   "cell_type": "markdown",
   "id": "75e52ad4-6f4c-46ab-9885-be6b32fcf792",
   "metadata": {},
   "source": [
    "#### Confusion Matrix of oversampled Training set"
   ]
  },
  {
   "cell_type": "code",
   "execution_count": 27,
   "id": "70fb79da-da92-4d73-9f0e-71f1a95f421f",
   "metadata": {},
   "outputs": [
    {
     "data": {
      "image/png": "[encoded data removed]",
      "text/plain": [
       "<Figure size 640x480 with 2 Axes>"
      ]
     },
     "metadata": {},
     "output_type": "display_data"
    }
   ],
   "source": [
    "ConfusionMatrixDisplay.from_predictions(y_test, y_pred_over)\n",
    "plt.show()"
   ]
  },
  {
   "cell_type": "code",
   "execution_count": 28,
   "id": "5bd8be03-7502-4c50-af8b-d46c2ac500f2",
   "metadata": {},
   "outputs": [],
   "source": [
    "# cf_matrix = confusion_matrix(y_test, y_pred)\n",
    "# cf_matrix\n",
    "# cf_matrix.ravel()"
   ]
  },
  {
   "cell_type": "markdown",
   "id": "8ec5da37-09d7-4db9-b470-9199fc03e880",
   "metadata": {},
   "source": [
    "### Models Classification Reports"
   ]
  },
  {
   "cell_type": "code",
   "execution_count": 29,
   "id": "64e70d9a-d95b-4a48-992b-3957f27ab0f2",
   "metadata": {},
   "outputs": [
    {
     "name": "stdout",
     "output_type": "stream",
     "text": [
      "              precision    recall  f1-score   support\n",
      "\n",
      "           0       0.98      1.00      0.99    154780\n",
      "           1       0.41      0.00      0.01      2493\n",
      "\n",
      "    accuracy                           0.98    157273\n",
      "   macro avg       0.70      0.50      0.50    157273\n",
      "weighted avg       0.98      0.98      0.98    157273\n",
      "\n"
     ]
    }
   ],
   "source": [
    "print(classification_report(y_test, y_pred))"
   ]
  },
  {
   "cell_type": "code",
   "execution_count": 30,
   "id": "35636758-a135-4079-8581-6e239be4944a",
   "metadata": {},
   "outputs": [
    {
     "name": "stdout",
     "output_type": "stream",
     "text": [
      "              precision    recall  f1-score   support\n",
      "\n",
      "           0       0.99      0.70      0.82    154780\n",
      "           1       0.04      0.70      0.07      2493\n",
      "\n",
      "    accuracy                           0.70    157273\n",
      "   macro avg       0.51      0.70      0.44    157273\n",
      "weighted avg       0.98      0.70      0.81    157273\n",
      "\n"
     ]
    }
   ],
   "source": [
    "print(classification_report(y_test, y_pred_under))"
   ]
  },
  {
   "cell_type": "code",
   "execution_count": 31,
   "id": "41c10848-e996-4f93-8a88-c6ec6304b85c",
   "metadata": {},
   "outputs": [
    {
     "name": "stdout",
     "output_type": "stream",
     "text": [
      "              precision    recall  f1-score   support\n",
      "\n",
      "           0       0.99      0.99      0.99    154780\n",
      "           1       0.14      0.11      0.12      2493\n",
      "\n",
      "    accuracy                           0.98    157273\n",
      "   macro avg       0.56      0.55      0.55    157273\n",
      "weighted avg       0.97      0.98      0.97    157273\n",
      "\n"
     ]
    }
   ],
   "source": [
    "print(classification_report(y_test, y_pred_over))"
   ]
  },
  {
   "cell_type": "markdown",
   "id": "ef8c0daf-606b-4251-9bb0-611870733b9d",
   "metadata": {},
   "source": [
    "### AUC Score and ROC Curve"
   ]
  },
  {
   "cell_type": "code",
   "execution_count": 43,
   "id": "951706e4-047c-4c4f-86a6-25da25895f60",
   "metadata": {},
   "outputs": [
    {
     "data": {
      "image/png": "[encoded data removed]",
      "text/plain": [
       "<Figure size 600x400 with 1 Axes>"
      ]
     },
     "metadata": {},
     "output_type": "display_data"
    }
   ],
   "source": [
    "# Plot ROC curves\n",
    "fig, ax = plt.subplots(figsize = (6, 4))\n",
    "\n",
    "# Plot ROC curve for no sampling (original data)\n",
    "RocCurveDisplay.from_predictions(y_test, y_pred, ax=ax, name='No Sampling')\n",
    "\n",
    "# Plot ROC curve for undersampling\n",
    "RocCurveDisplay.from_predictions(y_test, y_pred_under, ax=ax, name='Undersampling')\n",
    "\n",
    "# Plot ROC curve for oversampling\n",
    "RocCurveDisplay.from_predictions(y_test, y_pred_over, ax=ax, name='Oversampling')\n",
    "\n",
    "# Add labels and title\n",
    "plt.xlabel('False Positive Rate')\n",
    "plt.ylabel('True Positive Rate')\n",
    "plt.title('ROC Curves for Different Sampling Techniques')\n",
    "plt.legend()\n",
    "plt.grid(True)\n",
    "plt.show()"
   ]
  },
  {
   "cell_type": "markdown",
   "id": "40ff64a4-4fb3-483d-985c-aa63ddd6462d",
   "metadata": {},
   "source": [
    "The Undersampled model has the highest AUC score (0.70). \n",
    "The higher the AUC score the better because the more accurate the model will be at predicting the correct class."
   ]
  },
  {
   "cell_type": "markdown",
   "id": "e4429fea-4a08-4245-a782-6baa46b1372b",
   "metadata": {},
   "source": [
    "## Conclusion"
   ]
  },
  {
   "cell_type": "markdown",
   "id": "61c447bb-7395-4935-a2af-c042dff853e0",
   "metadata": {},
   "source": [
    "### Classification: Precision and Recall: A Tug of War - [Google](https://developers.google.com/machine-learning/crash-course/classification/roc-and-auc)\n",
    "- Precision: What proportion of positive identifications was actually correct?\n",
    "- Recall: What proportion of actual positives was identified correctly?\n",
    "\n",
    "So what can we learn from this? well it is evident that: \n",
    "- (1) Accuracy score alone is not enough to determine the effectiveness of a classification model\n",
    "- (2) Over-sampling, Under-sampling and other sampling methods can be used to improve a classification model's performace\n",
    "- (3) To fully evaluate the effectiveness of a model, you must examine both precision and recall. Unfortunately, precision and recall are often in    tension. That is, improving precision typically reduces recall and vice versa.\n",
    "- (4) Precision and Recall are affected by the accuracy score of our model.\n",
    "- (5) Even though under-sampling led to a reduction in model accuracy score, it improved the model's ability to detect fraudulent transactions when compared to the models without resampling and the oversampled model, but this also led to a lot more non-fraudulent transactions being classified as fraudulent."
   ]
  }
 ],
 "metadata": {
  "kernelspec": {
   "display_name": "Python 3 (ipykernel)",
   "language": "python",
   "name": "python3"
  },
  "language_info": {
   "codemirror_mode": {
    "name": "ipython",
    "version": 3
   },
   "file_extension": ".py",
   "mimetype": "text/x-python",
   "name": "python",
   "nbconvert_exporter": "python",
   "pygments_lexer": "ipython3",
   "version": "3.11.5"
  }
 },
 "nbformat": 4,
 "nbformat_minor": 5
}
